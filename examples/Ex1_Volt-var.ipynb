{
 "cells": [
  {
   "cell_type": "markdown",
   "id": "c1b70cc1",
   "metadata": {},
   "source": [
    "# Demonstration of Volt-var Function"
   ]
  },
  {
   "cell_type": "markdown",
   "id": "ab52a78a",
   "metadata": {},
   "source": [
    "This example demonstrates steady state and dynamic simulation of volt-var function"
   ]
  },
  {
   "cell_type": "code",
   "execution_count": 1,
   "id": "18e4ca3f",
   "metadata": {},
   "outputs": [],
   "source": [
    "from opender import DER, DER_PV\n",
    "import matplotlib.pyplot as plt"
   ]
  },
  {
   "cell_type": "code",
   "execution_count": 2,
   "id": "a0207fd3",
   "metadata": {},
   "outputs": [],
   "source": [
    "# Create OpenDER object and enable volt-var function with IEEE 1547-2018 Cat B default setting\n",
    "der_obj = DER_PV()\n",
    "der_obj.der_file.QV_MODE_ENABLE=True"
   ]
  },
  {
   "cell_type": "code",
   "execution_count": 3,
   "id": "3ec69713",
   "metadata": {},
   "outputs": [
    {
     "name": "stdout",
     "output_type": "stream",
     "text": [
      "100000 100000\n"
     ]
    }
   ],
   "source": [
    "# If left unchanged, the nameplate rating is 100kW, 100kVA\n",
    "print(der_obj.der_file.NP_P_MAX, der_obj.der_file.NP_VA_MAX)"
   ]
  },
  {
   "cell_type": "code",
   "execution_count": 4,
   "id": "4315f7d9",
   "metadata": {},
   "outputs": [],
   "source": [
    "# Set voltage to 1pu and available DC power to 1pu\n",
    "der_obj.update_der_input(v_pu=1, f=60, p_dc_pu = 1)"
   ]
  },
  {
   "cell_type": "code",
   "execution_count": 5,
   "id": "9fc4362d",
   "metadata": {},
   "outputs": [
    {
     "data": {
      "text/plain": [
       "(100000.0, -0.0)"
      ]
     },
     "execution_count": 5,
     "metadata": {},
     "output_type": "execute_result"
    }
   ],
   "source": [
    "# Execute DER object to generate ouput. DER should output 1pu active power and 0 reactive power.\n",
    "der_obj.run()"
   ]
  },
  {
   "cell_type": "code",
   "execution_count": 6,
   "id": "270bf308",
   "metadata": {},
   "outputs": [
    {
     "name": "stdout",
     "output_type": "stream",
     "text": [
      "100000.0: DER1 (Continuous Operation)- v_meas_pu=1.00000, p_desired_pu=1.00, q_desired_pu=0.00, p_out_kw=100.000, q_out_kvar=-0.000\n"
     ]
    }
   ],
   "source": [
    "# print status of der_obj \n",
    "print(der_obj)"
   ]
  },
  {
   "cell_type": "code",
   "execution_count": 7,
   "id": "de55e60c",
   "metadata": {},
   "outputs": [
    {
     "data": {
      "text/plain": [
       "(97549.9871860576, -22000.0)"
      ]
     },
     "execution_count": 7,
     "metadata": {},
     "output_type": "execute_result"
    }
   ],
   "source": [
    "# Set voltage to 1.05pu, DER should absorb 0.22pu of reactive power, and reduce its active power due to reactive power priority.\n",
    "der_obj.update_der_input(v_pu=1.05)\n",
    "der_obj.run()"
   ]
  },
  {
   "cell_type": "markdown",
   "id": "56410679",
   "metadata": {},
   "source": [
    "## Dynamic simulation"
   ]
  },
  {
   "cell_type": "code",
   "execution_count": 8,
   "id": "2bd443a6",
   "metadata": {
    "scrolled": false
   },
   "outputs": [],
   "source": [
    "# Configure dynamic simulation timestep\n",
    "t_s = 1\n",
    "DER.t_s = t_s\n",
    "t = 0"
   ]
  },
  {
   "cell_type": "code",
   "execution_count": 9,
   "id": "174fc579",
   "metadata": {},
   "outputs": [],
   "source": [
    "# Prepare arrays for plotting\n",
    "t_plot = []\n",
    "v_plot = []\n",
    "p_plot = []\n",
    "pdc_plot = []\n",
    "q_plot = []"
   ]
  },
  {
   "cell_type": "code",
   "execution_count": 10,
   "id": "58ff3aee",
   "metadata": {},
   "outputs": [],
   "source": [
    "# Simulate for 45s\n",
    "while t < 45:\n",
    "    \n",
    "    # voltage alternating between 1.05 and 1pu\n",
    "    if 15<t<30:\n",
    "        der_obj.update_der_input(v_pu=1)\n",
    "    else:\n",
    "        der_obj.update_der_input(v_pu=1.05)\n",
    "\n",
    "    # calculate output power each time step\n",
    "    P, Q = der_obj.run()\n",
    "\n",
    "    # save result\n",
    "    t_plot.append(t)\n",
    "    p_plot.append(der_obj.p_out_pu)\n",
    "    pdc_plot.append(der_obj.der_input.p_avl_pu)\n",
    "    q_plot.append(der_obj.q_out_pu)\n",
    "    v_plot.append(der_obj.der_input.v_meas_pu)\n",
    "\n",
    "    # increase t\n",
    "    t = t + t_s"
   ]
  },
  {
   "cell_type": "code",
   "execution_count": 11,
   "id": "1b6e28c2",
   "metadata": {
    "scrolled": true
   },
   "outputs": [
    {
     "data": {
      "image/png": "[encoded data removed]",
      "text/plain": [
       "<Figure size 432x288 with 3 Axes>"
      ]
     },
     "metadata": {
      "needs_background": "light"
     },
     "output_type": "display_data"
    }
   ],
   "source": [
    "# plot figure\n",
    "fig = plt.figure()\n",
    "plt.clf()\n",
    "ax1=plt.subplot(3, 1, 1)\n",
    "plt.plot(t_plot, v_plot, label = 'Voltage (pu)')\n",
    "plt.grid()\n",
    "plt.legend()\n",
    "plt.subplot(3, 1, 2, sharex=ax1)\n",
    "plt.plot(t_plot, pdc_plot, label='P_dc (pu)')\n",
    "plt.plot(t_plot, p_plot, label='P_out (pu)')\n",
    "plt.grid()\n",
    "plt.legend()\n",
    "plt.subplot(3, 1, 3, sharex=ax1)\n",
    "plt.plot(t_plot, q_plot, label='Q_out (pu)')\n",
    "plt.grid()\n",
    "plt.legend()\n",
    "plt.xlabel('Time (s)')\n",
    "plt.tight_layout()\n",
    "plt.show()"
   ]
  },
  {
   "cell_type": "markdown",
   "id": "09135e3d",
   "metadata": {},
   "source": [
    "Notice the reactive power took around 5 seconds to reach 90% of the change due to open loop response time requirements"
   ]
  }
 ],
 "metadata": {
  "kernelspec": {
   "display_name": "Python 3 (ipykernel)",
   "language": "python",
   "name": "python3"
  },
  "language_info": {
   "codemirror_mode": {
    "name": "ipython",
    "version": 3
   },
   "file_extension": ".py",
   "mimetype": "text/x-python",
   "name": "python",
   "nbconvert_exporter": "python",
   "pygments_lexer": "ipython3",
   "version": "3.7.8"
  }
 },
 "nbformat": 4,
 "nbformat_minor": 5
}
