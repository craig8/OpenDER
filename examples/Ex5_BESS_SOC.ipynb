{
 "cells": [
  {
   "cell_type": "markdown",
   "id": "e7caadf8",
   "metadata": {},
   "source": [
    "# Battery Energy Storage System (BESS) State of Charge (SOC)"
   ]
  },
  {
   "cell_type": "code",
   "execution_count": 1,
   "id": "fdae7821",
   "metadata": {},
   "outputs": [],
   "source": [
    "from opender import DER, DER_BESS\n",
    "import matplotlib.pyplot as plt"
   ]
  },
  {
   "cell_type": "code",
   "execution_count": 2,
   "id": "06678b1d",
   "metadata": {},
   "outputs": [],
   "source": [
    "# Create a 100kW BESS DER object with 100kWh energy capacity, the SOC initial value is 50%\n",
    "der_obj = DER_BESS()\n",
    "der_obj.der_file.NP_P_MAX = 100000\n",
    "der_obj.der_file.NP_BESS_CAPACITY = 100000\n",
    "der_obj.der_file.SOC_INIT = 0.5"
   ]
  },
  {
   "cell_type": "code",
   "execution_count": 3,
   "id": "a54e3858",
   "metadata": {},
   "outputs": [],
   "source": [
    "der_obj.der_file.NP_BESS_P_MAX_BY_SOC ={\n",
    "    'SOC_P_DISCHARGE_MAX': [0.02, 0.05, 0.1],  # Configure the BESS to have less discharging capability when SOC is less than 0.1\n",
    "    'P_DISCHARGE_MAX_PU': [0, 0.2, 1],         # When SOC is at 5%, discharge power drop to 0.2. When SOC is at 2%, no discharge capability\n",
    "    'SOC_P_CHARGE_MAX': [0.9, 0.95, 0.98],     # Configure the BESS to have less charging capability when SOC is above than 90%\n",
    "    'P_CHARGE_MAX_PU': [1, 0.2, 0],            # When SOC is at 95%, charge power drop to 0.2. When SOC is at 98%, no charge capability\n",
    "}"
   ]
  },
  {
   "cell_type": "code",
   "execution_count": 4,
   "id": "9f838a4b",
   "metadata": {},
   "outputs": [],
   "source": [
    "# Configure time series (dynamic) simulation timestep\n",
    "t_s = 60\n",
    "DER.t_s = t_s\n",
    "t = 0"
   ]
  },
  {
   "cell_type": "code",
   "execution_count": 5,
   "id": "a026c088",
   "metadata": {},
   "outputs": [],
   "source": [
    "# Prepare arrays for plotting\n",
    "t_plot = []\n",
    "p_plot = []\n",
    "p_dem_plot = []\n",
    "soc_plot = []"
   ]
  },
  {
   "cell_type": "code",
   "execution_count": 6,
   "id": "7b38ef6c",
   "metadata": {
    "scrolled": true
   },
   "outputs": [],
   "source": [
    "# Simulate for 3 hours\n",
    "while t < 3 * 60 * 60:\n",
    "    \n",
    "    if t < 3600:\n",
    "        p_dem_pu = 1\n",
    "    else:\n",
    "        p_dem_pu = -1\n",
    "    \n",
    "    # Calculate DER output current\n",
    "    der_obj.update_der_input(v_pu = 1, p_dem_pu = p_dem_pu, f = 60)\n",
    "    der_obj.run()\n",
    "\n",
    "    # save result\n",
    "    t_plot.append(t)\n",
    "    p_plot.append(der_obj.p_out_pu)\n",
    "    p_dem_plot.append(p_dem_pu)\n",
    "    soc_plot.append(der_obj.get_bess_soc())\n",
    "\n",
    "    # increase t\n",
    "    t = t + t_s"
   ]
  },
  {
   "cell_type": "code",
   "execution_count": 7,
   "id": "b6b1bfd5",
   "metadata": {
    "scrolled": true
   },
   "outputs": [
    {
     "data": {
      "image/png": "[encoded data removed]",
      "text/plain": [
       "<Figure size 432x288 with 2 Axes>"
      ]
     },
     "metadata": {
      "needs_background": "light"
     },
     "output_type": "display_data"
    }
   ],
   "source": [
    "# plot figure\n",
    "fig = plt.figure()\n",
    "plt.clf()\n",
    "ax1=plt.subplot(2, 1, 1)\n",
    "plt.plot(t_plot, p_plot, label='P_out (pu)')\n",
    "plt.plot(t_plot, p_dem_plot, label='P_demand (pu)')\n",
    "plt.grid()\n",
    "plt.legend()\n",
    "plt.subplot(2, 1, 2, sharex=ax1)\n",
    "plt.plot(t_plot, soc_plot, label='State of Charge')\n",
    "plt.grid()\n",
    "plt.legend()\n",
    "plt.xlabel('Time (s)')\n",
    "plt.tight_layout()\n",
    "plt.show()"
   ]
  },
  {
   "cell_type": "markdown",
   "id": "963ca9bc",
   "metadata": {},
   "source": [
    "* Before BESS SOC drops to 10%, BESS is able to carry out the active power demand to discharge at 1pu\n",
    "* When SOC is below 10%, active power is reduced due to contraint. SOC drains slower\n",
    "* When SOC reaches 2%, BESS has no capability to discharge further. Active power is 0\n",
    "* For charging, before SOC goes up to 90%, BESS is able to carry out the active power demand at -1pu (charging)\n",
    "* When SOC is above 90%, active power is reduced due to contraint. SOC charges slower\n",
    "* When SOC reaches 98%, BESS has no capability to charge further. Active power is 0"
   ]
  }
 ],
 "metadata": {
  "kernelspec": {
   "display_name": "Python 3 (ipykernel)",
   "language": "python",
   "name": "python3"
  },
  "language_info": {
   "codemirror_mode": {
    "name": "ipython",
    "version": 3
   },
   "file_extension": ".py",
   "mimetype": "text/x-python",
   "name": "python",
   "nbconvert_exporter": "python",
   "pygments_lexer": "ipython3",
   "version": "3.7.8"
  }
 },
 "nbformat": 4,
 "nbformat_minor": 5
}
