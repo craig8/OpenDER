{
 "cells": [
  {
   "cell_type": "markdown",
   "id": "c1b70cc1",
   "metadata": {},
   "source": [
    "# Demonstration of Constant Power Factor Function for BESS DER"
   ]
  },
  {
   "cell_type": "markdown",
   "id": "f72269ab",
   "metadata": {},
   "source": [
    "This example demonstrates steady state performance of constant power factor function for BESS DER"
   ]
  },
  {
   "cell_type": "code",
   "execution_count": 1,
   "id": "18e4ca3f",
   "metadata": {},
   "outputs": [],
   "source": [
    "from opender import DER_BESS\n",
    "import matplotlib.pyplot as plt\n",
    "import numpy as np"
   ]
  },
  {
   "cell_type": "code",
   "execution_count": 2,
   "id": "a0207fd3",
   "metadata": {},
   "outputs": [],
   "source": [
    "# Create OpenDER BESS object, with 1MVA, 1MW, 1Mvar symmetrical rating\n",
    "der_obj = DER_BESS(NP_P_MAX=1e6,\n",
    "                   NP_VA_MAX=1e6,\n",
    "                   NP_P_MAX_CHARGE=1e6,\n",
    "                   NP_APPARENT_POWER_CHARGE_MAX=1e6,\n",
    "                   NP_Q_MAX_INJ=1e6,\n",
    "                   NP_Q_MAX_ABS=1e6)"
   ]
  },
  {
   "cell_type": "code",
   "execution_count": 3,
   "id": "28c24c4a",
   "metadata": {},
   "outputs": [],
   "source": [
    "# Enable constant power factor mode, and set power factor to 0.9 absorption\n",
    "der_obj.der_file.CONST_PF_MODE_ENABLE = True\n",
    "der_obj.der_file.CONST_PF = 0.9\n",
    "der_obj.der_file.CONST_PF_EXCITATION = 'ABS'"
   ]
  },
  {
   "cell_type": "code",
   "execution_count": 4,
   "id": "eb279846",
   "metadata": {},
   "outputs": [],
   "source": [
    "# Set voltage to 1pu and available DC power to 1pu\n",
    "der_obj.update_der_input(v_pu=1, f=60, p_dem_pu = 1)"
   ]
  },
  {
   "cell_type": "code",
   "execution_count": 5,
   "id": "0b3cdd9a",
   "metadata": {},
   "outputs": [
    {
     "data": {
      "text/plain": [
       "(900000.0000000001, -435889.89435406734)"
      ]
     },
     "execution_count": 5,
     "metadata": {},
     "output_type": "execute_result"
    }
   ],
   "source": [
    "# Execute DER object to generate output. DER should output 0.9pu active power and -0.44pu reactive power.\n",
    "der_obj.run()"
   ]
  },
  {
   "cell_type": "code",
   "execution_count": 6,
   "id": "4f071f3e",
   "metadata": {},
   "outputs": [],
   "source": [
    "# Prepare arrays for plotting\n",
    "p_plot = []\n",
    "q_plot = []"
   ]
  },
  {
   "cell_type": "code",
   "execution_count": 7,
   "id": "58ff3aee",
   "metadata": {},
   "outputs": [],
   "source": [
    "# Obtain DER output P and Q for both charging and discharging conditions\n",
    "for p in np.arange(-1, 1.1, 0.2):\n",
    "    der_obj.update_der_input(p_dem_pu=p)\n",
    "\n",
    "    # calculate output power each time step\n",
    "    P, Q = der_obj.run()\n",
    "\n",
    "    # save result\n",
    "    p_plot.append(der_obj.p_out_kw)\n",
    "    q_plot.append(der_obj.q_out_kvar)\n"
   ]
  },
  {
   "cell_type": "code",
   "execution_count": 8,
   "id": "1b6e28c2",
   "metadata": {
    "scrolled": true
   },
   "outputs": [
    {
     "data": {
      "image/png": "[encoded data removed]",
      "text/plain": [
       "<Figure size 432x288 with 1 Axes>"
      ]
     },
     "metadata": {
      "needs_background": "light"
     },
     "output_type": "display_data"
    }
   ],
   "source": [
    "# plot figure\n",
    "fig = plt.figure()\n",
    "plt.scatter(p_plot, q_plot)\n",
    "plt.xlabel('P output (kW)')\n",
    "plt.ylabel('Q output (kvar)')\n",
    "plt.gca().add_patch(plt.Circle((0,0),radius=1e3,color='r',fill=False))\n",
    "plt.axis('equal')\n",
    "plt.show()"
   ]
  },
  {
   "cell_type": "markdown",
   "id": "21ab3fbf",
   "metadata": {},
   "source": [
    "Notice that when apparent power is reached, the DER reduces active power to maintain the constant power factor setting, in both charging and discharging modes"
   ]
  }
 ],
 "metadata": {
  "kernelspec": {
   "display_name": "Python 3 (ipykernel)",
   "language": "python",
   "name": "python3"
  },
  "language_info": {
   "codemirror_mode": {
    "name": "ipython",
    "version": 3
   },
   "file_extension": ".py",
   "mimetype": "text/x-python",
   "name": "python",
   "nbconvert_exporter": "python",
   "pygments_lexer": "ipython3",
   "version": "3.7.8"
  }
 },
 "nbformat": 4,
 "nbformat_minor": 5
}
