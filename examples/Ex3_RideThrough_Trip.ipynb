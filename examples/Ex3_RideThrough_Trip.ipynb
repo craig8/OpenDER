{
 "cells": [
  {
   "cell_type": "markdown",
   "id": "84f9dcda",
   "metadata": {},
   "source": [
    "# Dynamic Simulation of Abnormal Voltage Ride-through and Trip Performance"
   ]
  },
  {
   "cell_type": "code",
   "execution_count": 1,
   "id": "e51ccfc2",
   "metadata": {},
   "outputs": [],
   "source": [
    "from opender import DER, DER_PV\n",
    "import matplotlib.pyplot as plt"
   ]
  },
  {
   "cell_type": "code",
   "execution_count": 2,
   "id": "7c290ebd",
   "metadata": {},
   "outputs": [],
   "source": [
    "# create Category II DER, without momentary cessation.\n",
    "der_obj = DER_PV()\n",
    "der_obj.der_file.NP_ABNORMAL_OP_CAT = 'CAT_II'\n",
    "der_obj.update_der_input(p_dc_pu=0.5, f=60)"
   ]
  },
  {
   "cell_type": "code",
   "execution_count": 3,
   "id": "c492002d",
   "metadata": {},
   "outputs": [],
   "source": [
    "# Configure dynamic simulation timestep\n",
    "t_s = 0.01\n",
    "DER.t_s = t_s\n",
    "t = 0"
   ]
  },
  {
   "cell_type": "code",
   "execution_count": 4,
   "id": "2bd9a04e",
   "metadata": {},
   "outputs": [],
   "source": [
    "# Prepare arrays for plotting\n",
    "t_plot = []\n",
    "v_plot = []\n",
    "i_plot = []\n",
    "stat_plot = []"
   ]
  },
  {
   "cell_type": "code",
   "execution_count": 5,
   "id": "a914c9d5",
   "metadata": {},
   "outputs": [],
   "source": [
    "# Simulate for 5s\n",
    "while t < 5:\n",
    "    v = 1\n",
    "    # Between 0.5 to 1s, voltage set to 0.8, DER should enter mandatory operation region\n",
    "    if 0.5 < t < 1:\n",
    "        v = 0.8\n",
    "    # Between 2.5 to 3s, voltage set to 0.5, DER should enter permissive operation region\n",
    "    if 2.5 < t < 3:\n",
    "        v = 0.5\n",
    "    # After 4.5s, voltage set to 0, DER should should cease to energize and trip within 0.16s\n",
    "    if t > 4.5:\n",
    "        v = 0\n",
    "\n",
    "    # Calculate DER output current\n",
    "    der_obj.update_der_input(v_pu = v)\n",
    "    der_obj.run()\n",
    "    I,_ = der_obj.get_der_output('Ipn_pu')\n",
    "\n",
    "    # save result\n",
    "    t_plot.append(t)\n",
    "    v_plot.append(der_obj.der_input.v_meas_pu)\n",
    "    i_plot.append(abs(I))\n",
    "    stat_plot.append(der_obj.der_status)\n",
    "\n",
    "    # increase t\n",
    "    t = t + t_s"
   ]
  },
  {
   "cell_type": "code",
   "execution_count": 6,
   "id": "f79d03d4",
   "metadata": {},
   "outputs": [
    {
     "data": {
      "image/png": "[encoded data removed]",
      "text/plain": [
       "<Figure size 432x288 with 3 Axes>"
      ]
     },
     "metadata": {
      "needs_background": "light"
     },
     "output_type": "display_data"
    }
   ],
   "source": [
    "# plot figure\n",
    "fig = plt.figure()\n",
    "plt.clf()\n",
    "ax1=plt.subplot(3, 1, 1)\n",
    "plt.plot(t_plot, v_plot, label='V (pu)')\n",
    "plt.grid()\n",
    "plt.legend()\n",
    "plt.subplot(3, 1, 2, sharex=ax1)\n",
    "plt.plot(t_plot, i_plot, label='I_out (pu)')\n",
    "plt.grid()\n",
    "plt.legend()\n",
    "plt.subplot(3, 1, 3, sharex=ax1)\n",
    "plt.plot(t_plot, stat_plot, label='DER status')\n",
    "plt.grid()\n",
    "plt.legend()\n",
    "plt.xlabel('Time (s)')\n",
    "plt.tight_layout()\n",
    "plt.show()"
   ]
  },
  {
   "cell_type": "markdown",
   "id": "fca813df",
   "metadata": {},
   "source": [
    "For this Category II DER,\n",
    "* when voltage is at 0.8pu, DER enters mandatory operation\n",
    "* when voltage is at 0.5pu, DER enters permissive operation\n",
    "* when voltage is at 0pu, DER enters cease to energize, and trips in 0.16s"
   ]
  }
 ],
 "metadata": {
  "kernelspec": {
   "display_name": "Python 3 (ipykernel)",
   "language": "python",
   "name": "python3"
  },
  "language_info": {
   "codemirror_mode": {
    "name": "ipython",
    "version": 3
   },
   "file_extension": ".py",
   "mimetype": "text/x-python",
   "name": "python",
   "nbconvert_exporter": "python",
   "pygments_lexer": "ipython3",
   "version": "3.7.8"
  }
 },
 "nbformat": 4,
 "nbformat_minor": 5
}
