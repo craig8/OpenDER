{
 "cells": [
  {
   "cell_type": "markdown",
   "id": "2cdfb179",
   "metadata": {},
   "source": [
    "# Dynamic Simulation of Enter Service Performance"
   ]
  },
  {
   "cell_type": "code",
   "execution_count": 1,
   "id": "063086ae",
   "metadata": {},
   "outputs": [],
   "source": [
    "from opender import DER, DER_PV\n",
    "import matplotlib.pyplot as plt"
   ]
  },
  {
   "cell_type": "markdown",
   "id": "ac5d2f7d",
   "metadata": {},
   "source": [
    "### Enter Service Ramp"
   ]
  },
  {
   "cell_type": "code",
   "execution_count": 2,
   "id": "9da1a26e",
   "metadata": {},
   "outputs": [],
   "source": [
    "# Create OpenDER object and configure enter service delay as 50s, enter service ramp time as 100s\n",
    "der_obj = DER_PV()\n",
    "der_obj.der_file.ES_DELAY = 50\n",
    "der_obj.der_file.ES_RAMP_RATE = 100"
   ]
  },
  {
   "cell_type": "code",
   "execution_count": 3,
   "id": "84496ef3",
   "metadata": {},
   "outputs": [],
   "source": [
    "# Initialize DER in Trip state\n",
    "der_obj.der_file.STATUS_INIT = 'OFF'\n",
    "der_obj.der_file.ES_PERMIT_SERVICE = False\n",
    "der_obj.update_der_input(v_pu=1, f=60, p_dc_pu=1)"
   ]
  },
  {
   "cell_type": "code",
   "execution_count": 4,
   "id": "fd96f567",
   "metadata": {},
   "outputs": [],
   "source": [
    "# Configure dynamic simulation timestep\n",
    "t_s = 1\n",
    "DER.t_s = t_s\n",
    "t = 0"
   ]
  },
  {
   "cell_type": "code",
   "execution_count": 5,
   "id": "710b534c",
   "metadata": {},
   "outputs": [],
   "source": [
    "# Prepare arrays for plotting\n",
    "t_plot = []\n",
    "v_plot = []\n",
    "p_plot = []\n",
    "stat_plot = []"
   ]
  },
  {
   "cell_type": "code",
   "execution_count": 6,
   "id": "b509bb5c",
   "metadata": {},
   "outputs": [],
   "source": [
    "# Simulate for 200s\n",
    "while t < 200:\n",
    "    \n",
    "    # At 25s, permit DER to enter service\n",
    "    if t> 25:\n",
    "        der_obj.der_file.ES_PERMIT_SERVICE = True\n",
    "\n",
    "    # calculate output power each time step\n",
    "    P, Q = der_obj.run()\n",
    "\n",
    "    # save result\n",
    "    t_plot.append(t)\n",
    "    p_plot.append(der_obj.p_out_pu)\n",
    "    stat_plot.append(der_obj.der_status)\n",
    "    v_plot.append(der_obj.der_input.v_meas_pu)\n",
    "\n",
    "    # increase t\n",
    "    t = t + t_s"
   ]
  },
  {
   "cell_type": "code",
   "execution_count": 7,
   "id": "9cf200de",
   "metadata": {
    "scrolled": true
   },
   "outputs": [
    {
     "data": {
      "image/png": "[encoded data removed]",
      "text/plain": [
       "<Figure size 432x288 with 2 Axes>"
      ]
     },
     "metadata": {
      "needs_background": "light"
     },
     "output_type": "display_data"
    }
   ],
   "source": [
    "# plot figure\n",
    "fig = plt.figure()\n",
    "plt.clf()\n",
    "ax1=plt.subplot(2, 1, 1)\n",
    "plt.plot(t_plot, p_plot, label='P_out (pu)')\n",
    "plt.grid()\n",
    "plt.legend()\n",
    "plt.subplot(2, 1, 2, sharex=ax1)\n",
    "plt.plot(t_plot, stat_plot, label='DER status')\n",
    "plt.grid()\n",
    "plt.legend()\n",
    "plt.xlabel('Time (s)')\n",
    "plt.tight_layout()\n",
    "plt.show()"
   ]
  },
  {
   "cell_type": "markdown",
   "id": "81ed658f",
   "metadata": {},
   "source": [
    "Notice the DER takes a delay of 50s after receiving the permit service signal, before entering service. The enter service ramp takes 100s."
   ]
  },
  {
   "cell_type": "markdown",
   "id": "cb799732",
   "metadata": {},
   "source": [
    "### Enter Service Randomized Delay"
   ]
  },
  {
   "cell_type": "code",
   "execution_count": 8,
   "id": "7a0e8159",
   "metadata": {},
   "outputs": [],
   "source": [
    "# Reset DER, disable enter service ramp, and enable randomized delay\n",
    "der_obj.reinitialize()\n",
    "der_obj.der_file.ES_PERMIT_SERVICE = False\n",
    "der_obj.update_der_input(v_pu=1, f=60, p_dc_pu=1)\n",
    "der_obj.der_file.ES_RAMP_RATE = 0\n",
    "der_obj.der_file.ES_RANDOMIZED_DELAY = 100"
   ]
  },
  {
   "cell_type": "code",
   "execution_count": 9,
   "id": "8b8e6e7f",
   "metadata": {},
   "outputs": [],
   "source": [
    "# Configure dynamic simulation timestep\n",
    "t_s = 1\n",
    "DER.t_s = t_s\n",
    "t = 0"
   ]
  },
  {
   "cell_type": "code",
   "execution_count": 10,
   "id": "8f890bf1",
   "metadata": {},
   "outputs": [],
   "source": [
    "# Prepare arrays for plotting\n",
    "t_plot = []\n",
    "v_plot = []\n",
    "p_plot = []\n",
    "stat_plot = []"
   ]
  },
  {
   "cell_type": "code",
   "execution_count": 11,
   "id": "de496c1f",
   "metadata": {},
   "outputs": [],
   "source": [
    "# Simulate for 200s\n",
    "while t < 200:\n",
    "    \n",
    "    # At 25s, permit DER to enter service\n",
    "    if t> 25:\n",
    "        der_obj.der_file.ES_PERMIT_SERVICE = True\n",
    "\n",
    "    # calculate output power each time step\n",
    "    P, Q = der_obj.run()\n",
    "\n",
    "    # save result\n",
    "    t_plot.append(t)\n",
    "    p_plot.append(der_obj.p_out_pu)\n",
    "    stat_plot.append(der_obj.der_status)\n",
    "    v_plot.append(der_obj.der_input.v_meas_pu)\n",
    "\n",
    "    # increase t\n",
    "    t = t + t_s"
   ]
  },
  {
   "cell_type": "code",
   "execution_count": 12,
   "id": "fa3d9b8d",
   "metadata": {
    "scrolled": true
   },
   "outputs": [
    {
     "data": {
      "image/png": "[encoded data removed]",
      "text/plain": [
       "<Figure size 432x288 with 2 Axes>"
      ]
     },
     "metadata": {
      "needs_background": "light"
     },
     "output_type": "display_data"
    }
   ],
   "source": [
    "# plot figure\n",
    "fig = plt.figure()\n",
    "plt.clf()\n",
    "ax1=plt.subplot(2, 1, 1)\n",
    "plt.plot(t_plot, p_plot, label='P_out (pu)')\n",
    "plt.grid()\n",
    "plt.legend()\n",
    "plt.subplot(2, 1, 2, sharex=ax1)\n",
    "plt.plot(t_plot, stat_plot, label='DER status')\n",
    "plt.grid()\n",
    "plt.legend()\n",
    "plt.xlabel('Time (s)')\n",
    "plt.tight_layout()\n",
    "plt.show()"
   ]
  },
  {
   "cell_type": "markdown",
   "id": "5d870c81",
   "metadata": {},
   "source": [
    "Notice the DER took an additional randomized delay of 100s after the 50s delay to enter service. This is an exception to the ramp start for DER plants < 500kVA."
   ]
  }
 ],
 "metadata": {
  "kernelspec": {
   "display_name": "Python 3 (ipykernel)",
   "language": "python",
   "name": "python3"
  },
  "language_info": {
   "codemirror_mode": {
    "name": "ipython",
    "version": 3
   },
   "file_extension": ".py",
   "mimetype": "text/x-python",
   "name": "python",
   "nbconvert_exporter": "python",
   "pygments_lexer": "ipython3",
   "version": "3.7.8"
  }
 },
 "nbformat": 4,
 "nbformat_minor": 5
}
