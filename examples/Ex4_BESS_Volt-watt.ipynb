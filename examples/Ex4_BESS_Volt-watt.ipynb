{
 "cells": [
  {
   "cell_type": "markdown",
   "id": "2612a81b",
   "metadata": {},
   "source": [
    "# Battery Energy Storage System (BESS) with Volt-watt Function"
   ]
  },
  {
   "cell_type": "code",
   "execution_count": 1,
   "id": "708e1ee5",
   "metadata": {},
   "outputs": [],
   "source": [
    "from opender import DER_BESS"
   ]
  },
  {
   "cell_type": "code",
   "execution_count": 2,
   "id": "978f6d6b",
   "metadata": {},
   "outputs": [],
   "source": [
    "# Create BESS DER object, and enable volt-watt control with IEEE 1547-2018 default settings\n",
    "der_obj = DER_BESS()\n",
    "der_obj.der_file.PV_MODE_ENABLE = True"
   ]
  },
  {
   "cell_type": "code",
   "execution_count": 3,
   "id": "7e92aa96",
   "metadata": {},
   "outputs": [
    {
     "name": "stdout",
     "output_type": "stream",
     "text": [
      "DER output power is 1.00 pu\n"
     ]
    }
   ],
   "source": [
    "# If voltage is 1, volt-watt function is not active, DER carries out the demand active power of 1pu\n",
    "der_obj.update_der_input(v_pu=1, p_dem_pu=1, f=60)\n",
    "P, Q = der_obj.run()\n",
    "print(f\"DER output power is {der_obj.p_out_pu:.2f} pu\")"
   ]
  },
  {
   "cell_type": "code",
   "execution_count": 4,
   "id": "1a95384d",
   "metadata": {},
   "outputs": [
    {
     "name": "stdout",
     "output_type": "stream",
     "text": [
      "DER output power is 0.25 pu\n"
     ]
    }
   ],
   "source": [
    "# If voltage is 1.09, volt-watt function is active, DER output power is limited to 0.25pu.\n",
    "der_obj.update_der_input(v_pu=1.09)\n",
    "P, Q = der_obj.run()\n",
    "print(f\"DER output power is {der_obj.p_out_pu:.2f} pu\")"
   ]
  },
  {
   "cell_type": "code",
   "execution_count": 5,
   "id": "e4f32824",
   "metadata": {},
   "outputs": [
    {
     "name": "stdout",
     "output_type": "stream",
     "text": [
      "DER output power is -0.50 pu\n"
     ]
    }
   ],
   "source": [
    "# Configure volt-watt curve point P2 to -1 (charging), DER output power should be limited to 0.5pu charging\n",
    "der_obj.der_file.PV_CURVE_P2 = -1\n",
    "P, Q = der_obj.run()\n",
    "print(f\"DER output power is {der_obj.p_out_pu:.2f} pu\")"
   ]
  }
 ],
 "metadata": {
  "kernelspec": {
   "display_name": "Python 3 (ipykernel)",
   "language": "python",
   "name": "python3"
  },
  "language_info": {
   "codemirror_mode": {
    "name": "ipython",
    "version": 3
   },
   "file_extension": ".py",
   "mimetype": "text/x-python",
   "name": "python",
   "nbconvert_exporter": "python",
   "pygments_lexer": "ipython3",
   "version": "3.7.8"
  }
 },
 "nbformat": 4,
 "nbformat_minor": 5
}
